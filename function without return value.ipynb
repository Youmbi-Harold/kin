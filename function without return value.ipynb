{
 "cells": [
  {
   "cell_type": "code",
   "execution_count": 4,
   "id": "629d3207",
   "metadata": {},
   "outputs": [
    {
     "name": "stdout",
     "output_type": "stream",
     "text": [
      "Please Enter a Score :59\n",
      "The student's Grade is F\n"
     ]
    }
   ],
   "source": [
    "#Writing a PrintGradeFunction that returns the grade\n",
    "def getGrade(score):\n",
    "    if score >= 90.0:\n",
    "        return 'A'\n",
    "    elif score >= 80.0:\n",
    "        return 'B'\n",
    "    elif score >= 70.0:\n",
    "        return 'c'\n",
    "    elif score >= 60.0:\n",
    "        return 'D'\n",
    "    else:\n",
    "        return 'F'      #testing for the score the range\n",
    "    \n",
    "def main():\n",
    "    score = eval(input('Please Enter a Score :'))   #prompting the user and printing the grade\n",
    "    print(\"The student's Grade is\", getGrade(score))\n",
    "    \n",
    "main()"
   ]
  },
  {
   "cell_type": "code",
   "execution_count": null,
   "id": "d411266e",
   "metadata": {},
   "outputs": [],
   "source": []
  },
  {
   "cell_type": "code",
   "execution_count": null,
   "id": "ace90597",
   "metadata": {},
   "outputs": [],
   "source": []
  }
 ],
 "metadata": {
  "kernelspec": {
   "display_name": "Python 3 (ipykernel)",
   "language": "python",
   "name": "python3"
  },
  "language_info": {
   "codemirror_mode": {
    "name": "ipython",
    "version": 3
   },
   "file_extension": ".py",
   "mimetype": "text/x-python",
   "name": "python",
   "nbconvert_exporter": "python",
   "pygments_lexer": "ipython3",
   "version": "3.8.5"
  }
 },
 "nbformat": 4,
 "nbformat_minor": 5
}
