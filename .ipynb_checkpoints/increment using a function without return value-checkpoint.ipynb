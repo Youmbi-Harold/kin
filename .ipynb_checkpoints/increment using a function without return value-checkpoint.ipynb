{
 "cells": [
  {
   "cell_type": "code",
   "execution_count": null,
   "id": "3f39fc37",
   "metadata": {},
   "outputs": [],
   "source": [
    "#Writing a program that perform increments\n",
    "def main():\n",
    "    x = 1\n",
    "    print(\"Before the call, x is \", x)\n",
    "    increment(x)\n",
    "    print(\"Afternthe call, x is\", x)\n",
    "    \n",
    "def increment(n):# setting up the function increment, with parameter n\n",
    "    n += 1\n",
    "    print(\"The value of n inside function is: \", n)#prints result after call\n",
    "    \n",
    "main()#call the  main function"
   ]
  }
 ],
 "metadata": {
  "kernelspec": {
   "display_name": "Python 3 (ipykernel)",
   "language": "python",
   "name": "python3"
  },
  "language_info": {
   "codemirror_mode": {
    "name": "ipython",
    "version": 3
   },
   "file_extension": ".py",
   "mimetype": "text/x-python",
   "name": "python",
   "nbconvert_exporter": "python",
   "pygments_lexer": "ipython3",
   "version": "3.8.5"
  }
 },
 "nbformat": 4,
 "nbformat_minor": 5
}
